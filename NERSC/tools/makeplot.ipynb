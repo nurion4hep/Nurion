{
 "cells": [
  {
   "cell_type": "code",
   "execution_count": 1,
   "metadata": {},
   "outputs": [],
   "source": [
    "import numpy as np\n",
    "import pandas as pd\n",
    "import matplotlib.pyplot as plt"
   ]
  },
  {
   "cell_type": "code",
   "execution_count": 14,
   "metadata": {},
   "outputs": [
    {
     "name": "stdout",
     "output_type": "stream",
     "text": [
      "1     12.6712\n",
      "2     12.5724\n",
      "3     12.6873\n",
      "4     12.6253\n",
      "5     12.6069\n",
      "6     12.6664\n",
      "7     10.9008\n",
      "8     12.6518\n",
      "9     12.6094\n",
      "10    12.6479\n",
      "11    12.6393\n",
      "12    10.8826\n",
      "13    12.6397\n",
      "14    10.8348\n",
      "15    10.8550\n",
      "16    12.6667\n",
      "17    12.6382\n",
      "18    12.6152\n",
      "19    12.6513\n",
      "20    12.6446\n",
      "21    12.6308\n",
      "22    10.8766\n",
      "23    12.6966\n",
      "24    10.8761\n",
      "25    12.6939\n",
      "26    10.9137\n",
      "27    10.9016\n",
      "28    10.8332\n",
      "29    12.6913\n",
      "30    12.6500\n",
      "       ...   \n",
      "35    12.7002\n",
      "36    10.9119\n",
      "37    10.9137\n",
      "38    10.9145\n",
      "39    12.7045\n",
      "40    10.8719\n",
      "41    10.8394\n",
      "42    12.7309\n",
      "43    10.9248\n",
      "44    12.6482\n",
      "45    10.8782\n",
      "46    12.6198\n",
      "47    12.6125\n",
      "48    10.9163\n",
      "49    12.6990\n",
      "50    12.6270\n",
      "51    10.9128\n",
      "52    12.6757\n",
      "53    10.9614\n",
      "54    10.9113\n",
      "55    12.6587\n",
      "56    10.8950\n",
      "57    12.6526\n",
      "58    10.8578\n",
      "59    12.6616\n",
      "60    12.6686\n",
      "61    12.6666\n",
      "62    10.9131\n",
      "63    10.9082\n",
      "64    12.6033\n",
      "Name: val_loss, Length: 64, dtype: object\n"
     ]
    },
    {
     "data": {
      "image/png": "[encoded data removed]",
      "text/plain": [
       "<Figure size 864x864 with 1 Axes>"
      ]
     },
     "metadata": {
      "needs_background": "light"
     },
     "output_type": "display_data"
    }
   ],
   "source": [
    "folder='result_64nd/'\n",
    "path=folder+'out.txt'\n",
    "\n",
    "cnt=0\n",
    "\n",
    "#import sys\n",
    "#sys.stdout = open('4node_sum.txt','w')\n",
    "\n",
    "loss=[]\n",
    "val_loss=[]\n",
    "\n",
    "\n",
    "with open(path) as f:\n",
    "    for line in f:\n",
    "        line=line.strip()\n",
    "        #if 'val_acc' in line or 'Epoch ' in line and 'improve' not in line:         \n",
    "        if 'val_acc' in line:\n",
    "            loss.append(line.split()[7])\n",
    "            val_loss.append(line.split()[13])\n",
    "\n",
    "df = pd.DataFrame({'loss':loss,'val_loss':val_loss},index=range(1,65))\n",
    "\n",
    "plt.figure(figsize=(12, 12))\n",
    "\n",
    "#plt.plot(df['loss'].astype('float'),'bo',label='Traning loss')\n",
    "plt.plot(df['val_loss'].astype('float'),'bo',label='Validation loss')\n",
    "plt.title('val loss')\n",
    "plt.xlabel('Epochs')\n",
    "plt.ylabel('Loss')\n",
    "plt.legend()\n",
    "\n",
    "plt.savefig(\"64node_valloss.png\")\n",
    "#print(df)\n",
    "print(df['val_loss'])"
   ]
  },
  {
   "cell_type": "code",
   "execution_count": 38,
   "metadata": {},
   "outputs": [
    {
     "name": "stdout",
     "output_type": "stream",
     "text": [
      "에러\n"
     ]
    }
   ],
   "source": [
    "dd"
   ]
  },
  {
   "cell_type": "code",
   "execution_count": null,
   "metadata": {},
   "outputs": [],
   "source": []
  }
 ],
 "metadata": {
  "kernelspec": {
   "display_name": "Python 3",
   "language": "python",
   "name": "python3"
  },
  "language_info": {
   "codemirror_mode": {
    "name": "ipython",
    "version": 3
   },
   "file_extension": ".py",
   "mimetype": "text/x-python",
   "name": "python",
   "nbconvert_exporter": "python",
   "pygments_lexer": "ipython3",
   "version": "3.6.8"
  }
 },
 "nbformat": 4,
 "nbformat_minor": 2
}
